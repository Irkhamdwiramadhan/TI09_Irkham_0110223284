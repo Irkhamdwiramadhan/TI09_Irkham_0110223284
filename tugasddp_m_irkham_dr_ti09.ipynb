{
  "nbformat": 4,
  "nbformat_minor": 0,
  "metadata": {
    "colab": {
      "provenance": [],
      "authorship_tag": "ABX9TyMMmvNU9NLmGWtkZrbY+stF",
      "include_colab_link": true
    },
    "kernelspec": {
      "name": "python3",
      "display_name": "Python 3"
    },
    "language_info": {
      "name": "python"
    }
  },
  "cells": [
    {
      "cell_type": "markdown",
      "metadata": {
        "id": "view-in-github",
        "colab_type": "text"
      },
      "source": [
        "<a href=\"https://colab.research.google.com/github/Irkhamdwiramadhan/TI09_Irkham_0110223284/blob/main/tugasddp_m_irkham_dr_ti09.ipynb\" target=\"_parent\"><img src=\"https://colab.research.google.com/assets/colab-badge.svg\" alt=\"Open In Colab\"/></a>"
      ]
    },
    {
      "cell_type": "code",
      "execution_count": null,
      "metadata": {
        "colab": {
          "base_uri": "https://localhost:8080/"
        },
        "id": "JvaarS1Venba",
        "outputId": "95a41389-a5f0-4b70-9f30-b712e7757984"
      },
      "outputs": [
        {
          "output_type": "stream",
          "name": "stdout",
          "text": [
            "['g', 'beat', 'honda', 'motor', 150, 'hitam', '10jt', 2]\n"
          ]
        }
      ],
      "source": [
        "A=[\"g\",\"beat\",150,\"hitam\"]\n",
        "A.append(\"10jt\")\n",
        "A.append(2)\n",
        "A.insert(2,\"honda\")\n",
        "A.insert(3,\"motor\")\n",
        "print(A)"
      ]
    },
    {
      "cell_type": "code",
      "source": [
        "\n",
        "rumus = input(\"masukan angka:\")\n",
        "match rumus:\n",
        "    case \"1\":\n",
        "        sisi = float(input(\"masukan panjang persegi:\"))\n",
        "        luas = sisi * sisi\n",
        "        print(\"luas persegi panjang adalah\", luas)\n",
        "    case \"2\":\n",
        "        jari = float(input(\"masukan jari jari:\"))\n",
        "        phi = float(input(\"masukan phi:\"))\n",
        "        luas = phi * jari * jari\n",
        "        print(\"luas lingkaran adalah\" ,luas)\n",
        "    case \"3\":\n",
        "        alas = float(input(\"masukan alas :\"))\n",
        "        tinggi = float(input(\"masukan tinggi :\"))\n",
        "        segitiga = alas * tinggi /2\n",
        "        print(\"luas segitiga adalah\" ,segitiga)\n",
        "    case _:\n",
        "        print(\"salah masukan pilihan\")"
      ],
      "metadata": {
        "colab": {
          "base_uri": "https://localhost:8080/"
        },
        "id": "kHI1dLymp_q4",
        "outputId": "39902e24-525d-4e69-dfa7-488bedfb6156"
      },
      "execution_count": null,
      "outputs": [
        {
          "output_type": "stream",
          "name": "stdout",
          "text": [
            "masukan angka:4\n",
            "salah masukan pilihan\n"
          ]
        }
      ]
    }
  ]
}